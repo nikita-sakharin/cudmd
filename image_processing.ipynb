{
 "cells": [
  {
   "cell_type": "code",
   "execution_count": null,
   "metadata": {},
   "outputs": [],
   "source": [
    "!python -m pip install -r requirements.txt"
   ]
  },
  {
   "cell_type": "code",
   "execution_count": null,
   "metadata": {},
   "outputs": [],
   "source": [
    "from glob import glob\n",
    "\n",
    "import numpy as np\n",
    "from PIL import Image\n",
    "\n",
    "pathname = 'crowd-counting/frames/frames/*.jpg'\n",
    "images = sorted([image for image in glob(pathname, recursive=False)])\n",
    "m = min(len(images), 840)\n",
    "for i in range(m):\n",
    "    with Image.open(images[i]) as image:\n",
    "        snapshot = np.array(image)\n",
    "        if i == 0:\n",
    "            image_shape = snapshot.shape\n",
    "            x_upper = np.empty((snapshot.size, m), dtype=np.uint8)\n",
    "        x_upper[:, i] = snapshot.reshape(-1)"
   ]
  },
  {
   "cell_type": "code",
   "execution_count": null,
   "metadata": {},
   "outputs": [],
   "source": [
    "from pydmd import DMD\n",
    "\n",
    "dmd = DMD(svd_rank=-1, exact=True).fit(x_upper)"
   ]
  },
  {
   "cell_type": "code",
   "execution_count": null,
   "metadata": {},
   "outputs": [],
   "source": [
    "from numpy.linalg import norm\n",
    "\n",
    "index = np.argmin(np.abs(np.log(dmd.eigs)))\n",
    "dmd.plot_eigs()\n",
    "print(F'index = {index}')\n",
    "print(F'amplitude = {dmd.amplitudes[index]}')\n",
    "print(F'eig = {dmd.eigs[index]}')\n",
    "print(F'norm(mode) = {norm(dmd.modes[:, index], axis=0)}')"
   ]
  },
  {
   "cell_type": "code",
   "execution_count": null,
   "metadata": {},
   "outputs": [],
   "source": [
    "reconstructed_data = np.outer(dmd.modes[:, index], dmd.dynamics[index])\n",
    "background = np.round(reconstructed_data.real).astype(np.uint8).T\n",
    "foreground = x_upper.T - background"
   ]
  },
  {
   "cell_type": "code",
   "execution_count": null,
   "metadata": {},
   "outputs": [],
   "source": [
    "frame = 85\n",
    "Image.fromarray(background[frame].reshape(*image_shape))"
   ]
  },
  {
   "cell_type": "code",
   "execution_count": null,
   "metadata": {},
   "outputs": [],
   "source": [
    "Image.fromarray(foreground[frame].reshape(*image_shape))"
   ]
  }
 ],
 "metadata": {
  "kernelspec": {
   "display_name": "Python 3",
   "language": "python",
   "name": "python3"
  },
  "language_info": {
   "codemirror_mode": {
    "name": "ipython",
    "version": 3
   },
   "file_extension": ".py",
   "mimetype": "text/x-python",
   "name": "python",
   "nbconvert_exporter": "python",
   "pygments_lexer": "ipython3",
   "version": "3.6.5"
  }
 },
 "nbformat": 4,
 "nbformat_minor": 2
}
