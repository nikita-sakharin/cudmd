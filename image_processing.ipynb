{
 "cells": [
  {
   "cell_type": "code",
   "execution_count": null,
   "metadata": {},
   "outputs": [],
   "source": [
    "!python -m pip install -r requirements.txt Pillow~=8.2.0"
   ]
  },
  {
   "cell_type": "code",
   "execution_count": null,
   "metadata": {},
   "outputs": [],
   "source": [
    "from glob import glob\n",
    "\n",
    "from PIL import Image\n",
    "import numpy as np\n",
    "\n",
    "pathname = 'crowd-counting/frames/frames/*.jpg'\n",
    "images = sorted([image for image in glob(pathname, recursive=False)])\n",
    "m = len(images)\n",
    "for i in range(m):\n",
    "    with Image.open(images[i]) as image:\n",
    "        snapshot = np.array(image).reshape(-1)\n",
    "        if i == 0:\n",
    "            x_upper = np.empty((len(snapshot), m))\n",
    "        x_upper[:, i] = snapshot"
   ]
  },
  {
   "cell_type": "code",
   "execution_count": null,
   "metadata": {},
   "outputs": [],
   "source": [
    "x_upper.shape"
   ]
  }
 ],
 "metadata": {
  "kernelspec": {
   "display_name": "Python 3",
   "language": "python",
   "name": "python3"
  },
  "language_info": {
   "codemirror_mode": {
    "name": "ipython",
    "version": 3
   },
   "file_extension": ".py",
   "mimetype": "text/x-python",
   "name": "python",
   "nbconvert_exporter": "python",
   "pygments_lexer": "ipython3",
   "version": "3.6.5"
  }
 },
 "nbformat": 4,
 "nbformat_minor": 2
}
