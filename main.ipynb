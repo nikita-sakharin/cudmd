{
 "cells": [
  {
   "cell_type": "code",
   "execution_count": null,
   "metadata": {},
   "outputs": [],
   "source": [
    "!python -m pip install -r requirements.txt"
   ]
  },
  {
   "cell_type": "code",
   "execution_count": null,
   "metadata": {},
   "outputs": [],
   "source": [
    "import numpy as np\n",
    "\n",
    "def f1(x: np.ndarray, t: np.ndarray) -> np.ndarray:\n",
    "    return 1.0 / np.cosh(x + 3.0) * np.exp(2.3J * t)\n",
    "\n",
    "def f2(x: np.ndarray, t: np.ndarray) -> np.ndarray:\n",
    "    return 2.0 / np.cosh(x) * np.tanh(x) * np.exp(2.8J * t)\n",
    "\n",
    "x = np.linspace(-5.0, 5.0, 2 ** 10 + 1)\n",
    "t = np.linspace(0.0, 4.0 * np.pi, 2 ** 8 + 1)\n",
    "\n",
    "xgrid, tgrid = np.meshgrid(x, t)\n",
    "\n",
    "X1 = f1(xgrid, tgrid)\n",
    "X2 = f2(xgrid, tgrid)\n",
    "X = X1 + X2"
   ]
  },
  {
   "cell_type": "code",
   "execution_count": null,
   "metadata": {},
   "outputs": [],
   "source": [
    "from matplotlib import pyplot as plt\n",
    "\n",
    "titles = ['$f_1(x,t)$', '$f_2(x,t)$', '$f$']\n",
    "data = [X1, X2, X]\n",
    "\n",
    "fig = plt.figure(figsize=(16, 9), dpi=400)\n",
    "for n, title, d in zip(range(131, 134), titles, data):\n",
    "    plt.subplot(n, facecolor='white', title=title)\n",
    "    plt.pcolor(xgrid, tgrid, d.real)\n",
    "plt.colorbar()\n",
    "plt.show()"
   ]
  },
  {
   "cell_type": "code",
   "execution_count": null,
   "metadata": {},
   "outputs": [],
   "source": [
    "from numpy.linalg import pinv\n",
    "\n",
    "EPSILON = 1E-8\n",
    "\n",
    "n = len(x)\n",
    "A = X[1:].T @ pinv(X[:-1].T, rcond=EPSILON)\n",
    "assert A.shape == (n, n)\n",
    "assert np.allclose(A @ X[:-1].T, X[1:].T, rtol=EPSILON, atol=EPSILON)"
   ]
  },
  {
   "cell_type": "code",
   "execution_count": null,
   "metadata": {},
   "outputs": [],
   "source": [
    "from numpy.linalg import eig, svd\n",
    "\n",
    "class DynamicModeDecomposition:\n",
    "    def __init__(self, rank):\n",
    "        self.rank = rank\n",
    "\n",
    "    def fit(self, x: np.ndarray):\n",
    "        if not isinstance(x, np.ndarray):\n",
    "            raise TypeError()\n",
    "        if len(x.shape) != 2 or len(x) >= x.shape[1] or len(x) < 2:\n",
    "            raise ValueError()\n",
    "        x, x_prime = x[:-1].T, x[1:].T\n",
    "        u, s, vh = svd(x, full_matrices=False)\n",
    "        assert np.allclose(x, u * s @ vh, rtol=EPSILON, atol=EPSILON)\n",
    "        u, s, vh = u[:, :self.rank], s[:self.rank], vh[:self.rank]\n",
    "        assert x.shape == (u * s @ vh).shape\n",
    "        atilde = np.conj(u.T) @ x_prime @ np.conj(vh.T) / s\n",
    "        w, v = eig(atilde)\n",
    "        assert np.allclose(atilde @ v, w * v, rtol=EPSILON, atol=EPSILON)\n",
    "        phi = x_prime @ np.conj(vh.T) / s @ v\n",
    "        return self\n",
    "\n",
    "    def predict(self, x: np.array):\n",
    "        return x"
   ]
  },
  {
   "cell_type": "code",
   "execution_count": null,
   "metadata": {},
   "outputs": [],
   "source": [
    "from pydmd import DMD\n",
    "\n",
    "dmd = DMD(svd_rank=2).fit(X.T)\n",
    "for i in range(1, len(t)):\n",
    "    assert np.allclose(dmd.predict(X[i - 1]), X[i], rtol=1E-8, atol=1E-8)"
   ]
  },
  {
   "cell_type": "code",
   "execution_count": null,
   "metadata": {},
   "outputs": [],
   "source": [
    "DynamicModeDecomposition(2).fit(X)"
   ]
  }
 ],
 "metadata": {
  "kernelspec": {
   "display_name": "Python 3",
   "language": "python",
   "name": "python3"
  },
  "language_info": {
   "codemirror_mode": {
    "name": "ipython",
    "version": 3
   },
   "file_extension": ".py",
   "mimetype": "text/x-python",
   "name": "python",
   "nbconvert_exporter": "python",
   "pygments_lexer": "ipython3",
   "version": "3.6.5"
  }
 },
 "nbformat": 4,
 "nbformat_minor": 2
}
