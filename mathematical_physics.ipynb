{
 "cells": [
  {
   "cell_type": "code",
   "execution_count": null,
   "metadata": {},
   "outputs": [],
   "source": [
    "!python -m pip install -r requirements.txt"
   ]
  },
  {
   "cell_type": "code",
   "execution_count": null,
   "metadata": {},
   "outputs": [],
   "source": [
    "from math import cos, sin\n",
    "import numpy as np\n",
    "\n",
    "L = np.array([100.0, 100.0])\n",
    "T = 10.0\n",
    "O, AB = np.array([40.0, 50.0]), np.array([7.0, 11.0])\n",
    "WIDTH = np.array([5.0, 6.0])\n",
    "(AMPLITUDE, GAMMA) = 1.0, 0.25\n",
    "\n",
    "def condition(u: np.array, k: int) -> type(None):\n",
    "    t = T / u.shape[0] * k\n",
    "    xy = O + AB * np.array([cos(t), sin(t)])\n",
    "    i, j = (L / u_k.shape[1:] * (np.outer(np.array([-1, 1]), WIDTH) + xy)).T\n",
    "    u_k[i[0]:i[1], j[0]:j[1]] = AMPLITUDE\n",
    "\n",
    "def calculate(u: np.ndarray) -> np.ndarray:\n",
    "    for k in range(u.shape[0] - 1):\n",
    "        A = u[k, 2:  , 1:-1]\n",
    "        B = u[k,  :-2, 1:-1]\n",
    "        C = u[k, 1:-1, 2:  ]\n",
    "        D = u[k, 1:-1,  :-2]\n",
    "        E = u[k, 1:-1, 1:-1]\n",
    "        u[k + 1, 1:-1, 1:-1] = GAMMA * (A + B + C + D - 4.0 * E) + E\n",
    "        condition(u[k + 1], k + 1)\n",
    "    return u"
   ]
  },
  {
   "cell_type": "code",
   "execution_count": null,
   "metadata": {},
   "outputs": [],
   "source": [
    "import matplotlib.pyplot as plt\n",
    "\n",
    "def plot_heatmap(u_k: np.ndarray, k: int, vmin: float, vmax: float):\n",
    "    print(F'\\rk: {k}', flush=True, end='')\n",
    "    plt.clf()\n",
    "\n",
    "    plt.title(F\"Temperature at t = {k} unit time\")\n",
    "    plt.xlabel(\"x\")\n",
    "    plt.ylabel(\"y\")\n",
    "\n",
    "    plt.pcolormesh(u_k, cmap=plt.cm.jet, vmin=vmin, vmax=vmax)\n",
    "    plt.colorbar()\n",
    "\n",
    "    return plt"
   ]
  },
  {
   "cell_type": "code",
   "execution_count": null,
   "metadata": {},
   "outputs": [],
   "source": [
    "from matplotlib.animation import FuncAnimation\n",
    "\n",
    "u = np.zeros((160, 384, 384))\n",
    "condition(u, 0)\n",
    "u = calculate(u, GAMMA)\n",
    "vmin, vmax = u.min(), u.max()\n",
    "animate = lambda k: plot_heatmap(u[k], k, vmin, vmax)\n",
    "animation = FuncAnimation(plt.figure(), animate, interval=1, frames=len(u), repeat=False)\n",
    "animation.save(\"heat_equation_solution.gif\")"
   ]
  },
  {
   "cell_type": "code",
   "execution_count": null,
   "metadata": {},
   "outputs": [],
   "source": [
    "from timeit import default_timer as timer\n",
    "\n",
    "from pydmd import DMD\n",
    "\n",
    "now = timer()\n",
    "dmd = DMD(svd_rank=2, exact=False).fit(u.reshape(u.shape[0], -1).T)\n",
    "print(timer() - now)"
   ]
  },
  {
   "cell_type": "code",
   "execution_count": null,
   "metadata": {},
   "outputs": [],
   "source": [
    "# np.all(u.reshape(u.shape[0], -1)[0] == u[0].reshape(-1))\n",
    "u.reshape(u.shape[0], -1).T.shape"
   ]
  },
  {
   "cell_type": "code",
   "execution_count": null,
   "metadata": {},
   "outputs": [],
   "source": [
    "dmd.amplitudes"
   ]
  },
  {
   "cell_type": "code",
   "execution_count": null,
   "metadata": {},
   "outputs": [],
   "source": [
    "dmd.dynamics"
   ]
  },
  {
   "cell_type": "code",
   "execution_count": null,
   "metadata": {},
   "outputs": [],
   "source": [
    "data = dmd.reconstructed_data\n",
    "data[(np.abs(data) > 1E-4)]"
   ]
  },
  {
   "cell_type": "code",
   "execution_count": null,
   "metadata": {},
   "outputs": [],
   "source": [
    "u.reshape(u.shape[0], -1)"
   ]
  }
 ],
 "metadata": {
  "kernelspec": {
   "display_name": "Python 3",
   "language": "python",
   "name": "python3"
  },
  "language_info": {
   "codemirror_mode": {
    "name": "ipython",
    "version": 3
   },
   "file_extension": ".py",
   "mimetype": "text/x-python",
   "name": "python",
   "nbconvert_exporter": "python",
   "pygments_lexer": "ipython3",
   "version": "3.6.5"
  }
 },
 "nbformat": 4,
 "nbformat_minor": 2
}
