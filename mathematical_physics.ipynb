{
 "cells": [
  {
   "cell_type": "code",
   "execution_count": null,
   "metadata": {},
   "outputs": [],
   "source": [
    "!python -m pip install -r requirements.txt"
   ]
  },
  {
   "cell_type": "code",
   "execution_count": null,
   "metadata": {},
   "outputs": [],
   "source": [
    "import numpy as np\n",
    "\n",
    "A, B = 50, 70\n",
    "def condition(u_k: np.array, k: int) -> type(None):\n",
    "    t = 0.01 * k\n",
    "    i, j = int(A * sin(t)), int(B * cos(t))\n",
    "    u_k[i, j] = 100.0\n",
    "\n",
    "def calculate(u: np.ndarray, gamma: float) -> np.ndarray:\n",
    "    for k in range(u.shape[0] - 1):\n",
    "        A = u[k, 2:  , 1:-1]\n",
    "        B = u[k,  :-2, 1:-1]\n",
    "        C = u[k, 1:-1, 2:  ]\n",
    "        D = u[k, 1:-1,  :-2]\n",
    "        E = u[k, 1:-1, 1:-1]\n",
    "        u[k + 1, 1:-1, 1:-1] = gamma * (A + B + C + D - 4.0 * E) + E\n",
    "        condition(u[k+1], k + 1)\n",
    "    return u"
   ]
  },
  {
   "cell_type": "code",
   "execution_count": null,
   "metadata": {},
   "outputs": [],
   "source": [
    "import matplotlib.pyplot as plt\n",
    "from matplotlib.animation import FuncAnimation\n",
    "\n",
    "def plot_heatmap(u_k: np.ndarray, k: int, vmin: float, vmax: float):\n",
    "    plt.clf()\n",
    "\n",
    "    plt.title(F\"Temperature at t = {k} unit time\")\n",
    "    plt.xlabel(\"x\")\n",
    "    plt.ylabel(\"y\")\n",
    "\n",
    "    plt.pcolormesh(u_k, cmap=plt.cm.jet, vmin=vmin, vmax=vmax)\n",
    "    plt.colorbar()\n",
    "\n",
    "    return plt\n",
    "\n",
    "def animate(u: np.ndarray, k: int, vmin: float, vmax: float):\n",
    "    plotheatmap(u[k], k, )"
   ]
  },
  {
   "cell_type": "code",
   "execution_count": null,
   "metadata": {},
   "outputs": [],
   "source": [
    "u = np.zeros((256, 1024, 1024))\n",
    "condition(u)\n",
    "u = calculate(u)\n",
    "vmin, vmax = u.min(), u.max()\n",
    "animate = lambda k: plotheatmap(u[k], k, vmin, vmax)\n",
    "animation = FuncAnimation(plt.figure(), animate, interval=1, frames=len(u), repeat=False)\n",
    "animation.save(\"heat_equation_solution.gif\")"
   ]
  },
  {
   "cell_type": "code",
   "execution_count": null,
   "metadata": {},
   "outputs": [],
   "source": [
    "from timeit import default_timer as timer\n",
    "\n",
    "from pydmd import DMD\n",
    "\n",
    "now = timer()\n",
    "dmd = DMD(svd_rank=-1, exact=False).fit(x_upper)\n",
    "print(timer() - now)"
   ]
  }
 ],
 "metadata": {
  "kernelspec": {
   "display_name": "Python 3",
   "language": "python",
   "name": "python3"
  },
  "language_info": {
   "codemirror_mode": {
    "name": "ipython",
    "version": 3
   },
   "file_extension": ".py",
   "mimetype": "text/x-python",
   "name": "python",
   "nbconvert_exporter": "python",
   "pygments_lexer": "ipython3",
   "version": "3.6.5"
  }
 },
 "nbformat": 4,
 "nbformat_minor": 2
}
