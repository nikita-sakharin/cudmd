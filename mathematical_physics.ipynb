{
 "cells": [
  {
   "cell_type": "code",
   "execution_count": null,
   "metadata": {},
   "outputs": [],
   "source": [
    "!python -m pip install -r requirements.txt"
   ]
  },
  {
   "cell_type": "code",
   "execution_count": 1,
   "metadata": {},
   "outputs": [],
   "source": [
    "from math import cos, sin\n",
    "import numpy as np\n",
    "\n",
    "A, B = 50, 70\n",
    "def condition(u_k: np.array, k: int) -> type(None):\n",
    "    t = 0.0625 * k\n",
    "    i, j = 100 + int(A * sin(t)), 100 + int(B * cos(t))\n",
    "    u_k[i - 1:i+1, j - 1:j + 1] = 100.0\n",
    "\n",
    "def calculate(u: np.ndarray, gamma: float) -> np.ndarray:\n",
    "    for k in range(u.shape[0] - 1):\n",
    "        A = u[k, 2:  , 1:-1]\n",
    "        B = u[k,  :-2, 1:-1]\n",
    "        C = u[k, 1:-1, 2:  ]\n",
    "        D = u[k, 1:-1,  :-2]\n",
    "        E = u[k, 1:-1, 1:-1]\n",
    "        u[k + 1, 1:-1, 1:-1] = gamma * (A + B + C + D - 4.0 * E) + E\n",
    "        condition(u[k+1], k + 1)\n",
    "    return u"
   ]
  },
  {
   "cell_type": "code",
   "execution_count": 2,
   "metadata": {},
   "outputs": [],
   "source": [
    "import matplotlib.pyplot as plt\n",
    "from matplotlib.animation import FuncAnimation\n",
    "\n",
    "def plot_heatmap(u_k: np.ndarray, k: int, vmin: float, vmax: float):\n",
    "    plt.clf()\n",
    "\n",
    "    plt.title(F\"Temperature at t = {k} unit time\")\n",
    "    plt.xlabel(\"x\")\n",
    "    plt.ylabel(\"y\")\n",
    "\n",
    "    plt.pcolormesh(u_k, cmap=plt.cm.jet, vmin=vmin, vmax=vmax)\n",
    "    plt.colorbar()\n",
    "\n",
    "    return plt\n",
    "\n",
    "def animate(u: np.ndarray, k: int, vmin: float, vmax: float):\n",
    "    plotheatmap(u[k], k, vmin, vmax)"
   ]
  },
  {
   "cell_type": "code",
   "execution_count": 3,
   "metadata": {},
   "outputs": [],
   "source": [
    "GAMMA = 0.25\n",
    "u = np.zeros((3, 1024, 1024))\n",
    "condition(u, 0)\n",
    "u = calculate(u, GAMMA)\n",
    "vmin, vmax = u.min(), u.max()\n",
    "animate = lambda k: plot_heatmap(u[k], k, vmin, vmax)\n",
    "animation = FuncAnimation(plt.figure(), animate, interval=1, frames=len(u), repeat=False)\n",
    "animation.save(\"heat_equation_solution.gif\")"
   ]
  },
  {
   "cell_type": "code",
   "execution_count": 8,
   "metadata": {},
   "outputs": [
    {
     "data": {
      "text/plain": [
       "<module 'matplotlib.pyplot' from 'C:\\\\Program Files (x86)\\\\Microsoft Visual Studio\\\\Shared\\\\Anaconda3_64\\\\lib\\\\site-packages\\\\matplotlib\\\\pyplot.py'>"
      ]
     },
     "execution_count": 8,
     "metadata": {},
     "output_type": "execute_result"
    },
    {
     "data": {
      "image/png": "[encoded data removed]",
      "text/plain": [
       "<Figure size 432x288 with 2 Axes>"
      ]
     },
     "metadata": {},
     "output_type": "display_data"
    }
   ],
   "source": [
    "animate(200)"
   ]
  },
  {
   "cell_type": "code",
   "execution_count": null,
   "metadata": {},
   "outputs": [],
   "source": [
    "from timeit import default_timer as timer\n",
    "\n",
    "from pydmd import DMD\n",
    "\n",
    "now = timer()\n",
    "dmd = DMD(svd_rank=-1, exact=False).fit(x_upper)\n",
    "print(timer() - now)"
   ]
  }
 ],
 "metadata": {
  "kernelspec": {
   "display_name": "Python 3",
   "language": "python",
   "name": "python3"
  },
  "language_info": {
   "codemirror_mode": {
    "name": "ipython",
    "version": 3
   },
   "file_extension": ".py",
   "mimetype": "text/x-python",
   "name": "python",
   "nbconvert_exporter": "python",
   "pygments_lexer": "ipython3",
   "version": "3.6.5"
  }
 },
 "nbformat": 4,
 "nbformat_minor": 2
}
