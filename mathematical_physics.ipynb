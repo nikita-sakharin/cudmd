{
 "cells": [
  {
   "cell_type": "code",
   "execution_count": null,
   "metadata": {},
   "outputs": [],
   "source": [
    "!python -m pip install -r requirements.txt"
   ]
  },
  {
   "cell_type": "code",
   "execution_count": null,
   "metadata": {},
   "outputs": [],
   "source": [
    "from math import cos, sin\n",
    "import numpy as np\n",
    "\n",
    "L = np.array([100.0, 100.0])\n",
    "T = 10.0\n",
    "O, AB = np.array([40.0, 50.0]), np.array([7.0, 11.0])\n",
    "WIDTH = np.array([1.0, 2.0])\n",
    "(AMPLITUDE, GAMMA) = 1.0, 0.25\n",
    "\n",
    "def condition(u: np.array, k: int) -> type(None):\n",
    "    t = T / len(u) * k\n",
    "    xy = O + AB * np.array([cos(t), sin(t)])\n",
    "    bounds = u.shape[1:] / L * (np.outer(np.array([-1, 1]), WIDTH) + xy)\n",
    "    i, j = bounds.round().astype(int).T\n",
    "    u[k, i[0]:i[1], j[0]:j[1]] = AMPLITUDE\n",
    "\n",
    "def calculate(u: np.ndarray) -> np.ndarray:\n",
    "    for k in range(u.shape[0] - 1):\n",
    "        A = u[k, 2:  , 1:-1]\n",
    "        B = u[k,  :-2, 1:-1]\n",
    "        C = u[k, 1:-1, 2:  ]\n",
    "        D = u[k, 1:-1,  :-2]\n",
    "        E = u[k, 1:-1, 1:-1]\n",
    "        u[k + 1, 1:-1, 1:-1] = GAMMA * (A + B + C + D - 4.0 * E) + E\n",
    "        condition(u, k + 1)\n",
    "    return u"
   ]
  },
  {
   "cell_type": "code",
   "execution_count": null,
   "metadata": {},
   "outputs": [],
   "source": [
    "u = np.zeros((256, 512, 512))\n",
    "condition(u, 0)\n",
    "u = calculate(u)\n",
    "vmin, vmax = u.min(), u.max()"
   ]
  },
  {
   "cell_type": "code",
   "execution_count": null,
   "metadata": {},
   "outputs": [],
   "source": [
    "import matplotlib.pyplot as plt\n",
    "from matplotlib.animation import FuncAnimation, PillowWriter\n",
    "\n",
    "figure, axes = plt.subplots(figsize=(16, 9), dpi=400)\n",
    "\n",
    "def animate(k: int):\n",
    "    print(F'animate({k:03})', end='\\r')\n",
    "    axes.cla()\n",
    "    axes.pcolormesh(u[k], cmap=plt.cm.jet, vmin=vmin, vmax=vmax)\n",
    "    axes.set_title(F\"t = {T / len(u) * k}\")\n",
    "    axes.set_xlabel('x')\n",
    "    axes.set_ylabel('y')\n",
    "    return axes"
   ]
  },
  {
   "cell_type": "code",
   "execution_count": null,
   "metadata": {},
   "outputs": [],
   "source": [
    "interval = 1000.0 * T / len(u)\n",
    "animation = FuncAnimation(figure, animate, interval=interval, frames=len(u), repeat=False)\n",
    "animation.save(\"animation.gif\", writer='pillow')"
   ]
  }
 ],
 "metadata": {
  "kernelspec": {
   "display_name": "Python 3",
   "language": "python",
   "name": "python3"
  },
  "language_info": {
   "codemirror_mode": {
    "name": "ipython",
    "version": 3
   },
   "file_extension": ".py",
   "mimetype": "text/x-python",
   "name": "python",
   "nbconvert_exporter": "python",
   "pygments_lexer": "ipython3",
   "version": "3.6.5"
  }
 },
 "nbformat": 4,
 "nbformat_minor": 2
}
