{
 "cells": [
  {
   "cell_type": "code",
   "execution_count": null,
   "metadata": {},
   "outputs": [],
   "source": [
    "!python -m pip install -r ../requirements.txt"
   ]
  },
  {
   "cell_type": "code",
   "execution_count": null,
   "metadata": {},
   "outputs": [],
   "source": [
    "from math import cos, sin\n",
    "from sys import float_info\n",
    "import numpy as np\n",
    "\n",
    "L: np.ndarray = np.array([10.0, 10.0])\n",
    "T: float = 60.0\n",
    "SRC_POS: np.ndarray = np.array([[1.0, 2.0], [7.0, 6.0]])\n",
    "AMP, OMEGA = np.array([1.0, 2.0]), np.array([1.0, 0.75])\n",
    "ALPHA: float = 2**-6\n",
    "\n",
    "def add_src(u: np.ndarray, k: int):\n",
    "    pass\n",
    "\n",
    "def solve(k: float, n: np.ndarray) -> np.ndarray:\n",
    "    tau, h = T / k, L / n\n",
    "    sigma = ALPHA * ALPHA * tau / (h * h)\n",
    "    assert np.all(h > float_info.epsilon) and tau > float_info.epsilon and np.all(sigma <= 0.5)\n",
    "    u = np.zeros((k, *n))\n",
    "    for l in range(k - 1):\n",
    "        right, left = u[l, 2:  , 1:-1], u[l,  :-2, 1:-1]\n",
    "        down,  up   = u[l, 1:-1, 2:  ], u[l, 1:-1,  :-2]\n",
    "        middle      = u[l, 1:-1, 1:-1]\n",
    "        u[l + 1, 1:-1, 1:-1] = (middle\n",
    "            + sigma[0] * (left - 2.0 * middle + right)\n",
    "            + sigma[1] * (up   - 2.0 * middle + down ))\n",
    "        add_src(u, k + 1)\n",
    "    return u"
   ]
  },
  {
   "cell_type": "code",
   "execution_count": null,
   "metadata": {},
   "outputs": [],
   "source": [
    "solve(2**10, np.ndarray([2**10, 2**10]))"
   ]
  }
 ],
 "metadata": {
  "kernelspec": {
   "display_name": "Python 3",
   "language": "python",
   "name": "python3"
  },
  "language_info": {
   "codemirror_mode": {
    "name": "ipython",
    "version": 3
   },
   "file_extension": ".py",
   "mimetype": "text/x-python",
   "name": "python",
   "nbconvert_exporter": "python",
   "pygments_lexer": "ipython3",
   "version": "3.6.5"
  }
 },
 "nbformat": 4,
 "nbformat_minor": 2
}
