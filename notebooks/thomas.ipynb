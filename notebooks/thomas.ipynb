{
 "cells": [
  {
   "cell_type": "code",
   "execution_count": null,
   "metadata": {},
   "outputs": [],
   "source": [
    "from typing import Optional\n",
    "from numpy import array, ndarray, result_type, zeros_like\n",
    "\n",
    "\n",
    "def thomas(\n",
    "        a: ndarray, b: ndarray, c: ndarray, d: ndarray,\n",
    "        out: Optional[ndarray] = None, overwrite_d: bool = False) -> ndarray:\n",
    "    if not (isinstance(a, ndarray) and isinstance(b, ndarray)\n",
    "            and isinstance(c, ndarray) and isinstance(d, ndarray)\n",
    "            and (out is None or isinstance(out, ndarray))\n",
    "            and isinstance(overwrite_d, bool)):\n",
    "        raise TypeError()\n",
    "    if not (a.shape == b.shape == c.shape == d.shape):\n",
    "        raise ValueError()\n",
    "    n = len(d)\n",
    "    dtype = result_type(a.dtype, b.dtype, c.dtype, d.dtype, 'float64')\n",
    "    p = d if overwrite_d else zeros_like(d, dtype=dtype)\n",
    "    x = zeros_like(d, dtype=dtype) if out is None else out\n",
    "\n",
    "    p[0], x[0] = -c[0] / b[0], d[0] / b[0]\n",
    "    for i in range(1, n):\n",
    "        p[i] = -c[i] / (b[i] + a[i] * p[i - 1])\n",
    "        x[i] = (d[i] - a[i] * x[i - 1]) / (b[i] + a[i] * p[i - 1])\n",
    "\n",
    "    for i in range(n - 2, -1, -1):\n",
    "        x[i] += p[i] * x[i + 1]\n",
    "\n",
    "    return x"
   ]
  },
  {
   "cell_type": "code",
   "execution_count": null,
   "metadata": {},
   "outputs": [],
   "source": [
    "from scipy.linalg import solve_banded"
   ]
  },
  {
   "cell_type": "code",
   "execution_count": null,
   "metadata": {},
   "outputs": [],
   "source": [
    "ab = array([\n",
    "    [-5, 9, -3, -8, 0],\n",
    "    [6, 16, -17, 22, -13],\n",
    "    [0, -6, 9, 8, 6]], dtype='float64')\n",
    "b = array([-58, 161, -114, -90, -55], dtype='float64')\n",
    "x_prime = array([-8, 2, 9, -7, 1], dtype='float64')\n",
    "\n",
    "x = thomas(ab[2], ab[1], ab[0], b)\n",
    "print(x)"
   ]
  },
  {
   "cell_type": "code",
   "execution_count": null,
   "metadata": {},
   "outputs": [],
   "source": [
    "ab = array([\n",
    "    [0, -5, 9, -3, -8],\n",
    "    [6, 16, -17, 22, -13],\n",
    "    [-6, 9, 8, 6, 0]], dtype='float64')\n",
    "b = array([-58, 161, -114, -90, -55], dtype='float64')\n",
    "x_prime = array([-8, 2, 9, -7, 1], dtype='float64')\n",
    "\n",
    "x = solve_banded((1, 1), ab, b, overwrite_b=True)\n",
    "print(x)"
   ]
  },
  {
   "cell_type": "code",
   "execution_count": null,
   "metadata": {},
   "outputs": [],
   "source": [
    "ab = array([\n",
    "    [-9, -2, -3, 4, 0],\n",
    "    [-11, -15, 11, -15, 6],\n",
    "    [0, 5, -8, 6, 3]], dtype='float64')\n",
    "b = array([-122, -48, -14, -50, 42], dtype='float64')\n",
    "x_prime = array([7, 5, 4, 6, 4], dtype='float64')\n",
    "\n",
    "x = thomas(ab[2], ab[1], ab[0], b)\n",
    "print(x)"
   ]
  },
  {
   "cell_type": "code",
   "execution_count": null,
   "metadata": {},
   "outputs": [],
   "source": [
    "ab = array([\n",
    "    [0, -9, -2, -3, 4],\n",
    "    [-11, -15, 11, -15, 6],\n",
    "    [5, -8, 6, 3, 0]], dtype='float64')\n",
    "b = array([-122, -48, -14, -50, 42], dtype='float64')\n",
    "x_prime = array([7, 5, 4, 6, 4], dtype='float64')\n",
    "\n",
    "x = solve_banded((1, 1), ab, b, overwrite_b=True)\n",
    "print(x)"
   ]
  },
  {
   "cell_type": "code",
   "execution_count": null,
   "metadata": {},
   "outputs": [],
   "source": [
    "from numpy import zeros\n",
    "\n",
    "\n",
    "def check(ab, b, x):\n",
    "    B = zeros(len(b))\n",
    "    for i in range(len(b)):\n",
    "        if (i != 0):\n",
    "            B[i] += ab[2, i - 1] * x[i - 1]\n",
    "        B[i] += ab[1, i] * x[i]\n",
    "        if (i != len(b) - 1):\n",
    "            B[i] += ab[0, i + 1] * x[i + 1]\n",
    "    return B - b"
   ]
  },
  {
   "cell_type": "code",
   "execution_count": null,
   "metadata": {},
   "outputs": [],
   "source": [
    "check(ab, b, x_prime)"
   ]
  }
 ],
 "metadata": {
  "kernelspec": {
   "display_name": "Python 3",
   "language": "python",
   "name": "python3"
  },
  "language_info": {
   "codemirror_mode": {
    "name": "ipython",
    "version": 3
   },
   "file_extension": ".py",
   "mimetype": "text/x-python",
   "name": "python",
   "nbconvert_exporter": "python",
   "pygments_lexer": "ipython3",
   "version": "3.6.5"
  }
 },
 "nbformat": 4,
 "nbformat_minor": 2
}
