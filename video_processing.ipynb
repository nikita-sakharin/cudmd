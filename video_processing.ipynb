{
 "cells": [
  {
   "cell_type": "code",
   "execution_count": null,
   "metadata": {},
   "outputs": [],
   "source": [
    "!python -m pip install -r requirements.txt"
   ]
  },
  {
   "cell_type": "code",
   "execution_count": null,
   "metadata": {},
   "outputs": [],
   "source": [
    "from PIL import Image\n",
    "import cv2\n",
    "import numpy as np\n",
    "\n",
    "filename = 'monkey-giraffe.mp4'\n",
    "capture = cv2.VideoCapture(filename)\n",
    "x_upper, image_shape = [], None\n",
    "while True:\n",
    "    success, image = capture.read()\n",
    "    if not success:\n",
    "        break\n",
    "    image_shape = image.shape\n",
    "    x_upper.append(image.reshape(-1))\n",
    "capture.release()\n",
    "x_upper = np.array(x_upper).T"
   ]
  },
  {
   "cell_type": "code",
   "execution_count": null,
   "metadata": {},
   "outputs": [],
   "source": [
    "from timeit import default_timer as timer\n",
    "\n",
    "from pydmd import DMD\n",
    "\n",
    "now = timer()\n",
    "dmd = DMD(svd_rank=-1, exact=False).fit(x_upper)\n",
    "print(timer() - now)"
   ]
  },
  {
   "cell_type": "code",
   "execution_count": null,
   "metadata": {
    "scrolled": false
   },
   "outputs": [],
   "source": [
    "from numpy.linalg import norm\n",
    "\n",
    "index = np.argmin(np.abs(np.log(dmd.eigs)))\n",
    "dmd.plot_eigs()\n",
    "print(F'index = {index}')\n",
    "print(F'amplitude = {dmd.amplitudes[index]}')\n",
    "print(F'eig = {dmd.eigs[index]}')\n",
    "print(F'norm(mode) = {norm(dmd.modes[:, index], axis=0)}')"
   ]
  },
  {
   "cell_type": "code",
   "execution_count": null,
   "metadata": {},
   "outputs": [],
   "source": [
    "reconstructed_data = np.outer(dmd.modes[:, index], dmd.dynamics[index])\n",
    "background = np.round(reconstructed_data.T.real).astype(np.uint8, copy=False)\n",
    "foreground = x_upper.T - background"
   ]
  },
  {
   "cell_type": "code",
   "execution_count": null,
   "metadata": {
    "scrolled": false
   },
   "outputs": [],
   "source": [
    "frame = 85\n",
    "Image.fromarray(background[frame].reshape(*image_shape))"
   ]
  },
  {
   "cell_type": "code",
   "execution_count": null,
   "metadata": {},
   "outputs": [],
   "source": [
    "Image.fromarray(foreground[frame].reshape(*image_shape))"
   ]
  }
 ],
 "metadata": {
  "kernelspec": {
   "display_name": "Python 3",
   "language": "python",
   "name": "python3"
  },
  "language_info": {
   "codemirror_mode": {
    "name": "ipython",
    "version": 3
   },
   "file_extension": ".py",
   "mimetype": "text/x-python",
   "name": "python",
   "nbconvert_exporter": "python",
   "pygments_lexer": "ipython3",
   "version": "3.6.5"
  }
 },
 "nbformat": 4,
 "nbformat_minor": 2
}
